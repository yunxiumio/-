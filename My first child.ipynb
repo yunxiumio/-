{
 "cells": [
  {
   "cell_type": "code",
   "execution_count": 26,
   "metadata": {},
   "outputs": [
    {
     "name": "stdout",
     "output_type": "stream",
     "text": [
      "[22.31500619 -0.82208554  0.82309262 -0.24493242  1.09149382 -0.84607118\n",
      "  3.25769429  0.05635071 -1.86748593  1.03980583 -0.58682697 -1.39929564\n",
      "  0.91748532 -3.48828387]\n"
     ]
    }
   ],
   "source": [
    "import numpy as np\n",
    "import pandas as pd\n",
    "\n",
    "#   1.导入训练集的数据\n",
    "\n",
    "df=pd.read_csv(\"train_.csv\")              #打开训练集文件\n",
    "clm=df.columns                            #clm为各列的列标\n",
    "mean=np.nanmean(df,axis=0)                #求出每一列的均值mean（用来填充缺失值）\n",
    "j=0                                       \n",
    "for i in clm:                             #用均值替换缺失值\n",
    "    df[i].fillna(mean[j],inplace=True)    \n",
    "    j=j+1\n",
    "\n",
    "#   2.数据预处理\n",
    "\n",
    "df_X=df.drop('outcome',axis=1)             \n",
    "df_X=df_X.drop('id',axis=1)                #去掉训练集中的outcome和id两列\n",
    "df_X=np.c_[np.ones((404,1)),df_X]          #再加上一列全为1的数据作为“x0”，得到训练集的X矩阵df_X\n",
    "X = np.empty(shape=df_X.shape,dtype=float) \n",
    "mean_X = np.array([np.mean(df_X[:,i]) for i in range(df_X.shape[1])])   #求出df_X的每一列的平均值\n",
    "scale_X = np.array([np.std(df_X[:,i]) for i in range(df_X.shape[1])])   #求出df_X的每一列的方差\n",
    "\n",
    "for i in range(1,14):\n",
    "    X[:,i]=(df_X[:,i]-mean_X[i])/scale_X[i]    #对df_X使用标准化\n",
    "for i in range(404):\n",
    "    X[i,0]=1\n",
    "\n",
    "df_X=X                                      #得到标准化后的训练集的X矩阵df_X\n",
    "df_Y=df['outcome'][:]                      #得到训练集的Y矩阵\n",
    "df_Y=np.array(df_Y)\n",
    "\n",
    "m=404                                            #m为训练集的样本数\n",
    "theta=np.array([1,1,1,1,1,1,1,1,1,1,1,1,1,1])   #建立存放theta的值的数组\n",
    "\n",
    "#    3.梯度下降\n",
    "\n",
    "alpha=0.001          #学习率\n",
    "count=0              #迭代次数\n",
    "\n",
    "while True:\n",
    "    delta_theta=0     #偏导数\n",
    "    count=count+1     #记录迭代次数\n",
    "    for i in range(m):\n",
    "        delta_theta=delta_theta+df_X[i]*(np.dot(theta,df_X[i].T)-df_Y[i])   #求出偏导数\n",
    "    theta=theta-alpha*delta_theta/m                                         #梯度下降求theta中 \n",
    "    cost=0                                     #cost为损失函数\n",
    "    for j in range(m):\n",
    "        cost=cost+(theta*df_X[j]-df_Y[j])**2     #求损失函数中\n",
    "    cost=cost/(2*m)                             #得出损失函数\n",
    "    if count>5000:                           #设置迭代次数处\n",
    "        break\n",
    "        \n",
    "#print(count)                #看看迭代次数\n",
    "print(theta)                #看看theta最终结果\n",
    "#print(cost_1)               #看看损失函数\n",
    "\n",
    "#  4.预测\n",
    "\n",
    "test=pd.read_csv(\"test_.csv\")            #导入测试集数据\n",
    "test=np.array(test)\n",
    "test=np.delete(test,0,axis=1)\n",
    "#mean_test=np.nanmean(test[0],axis=0)              #求出每一列的均值mean（用来填充缺失值）\n",
    "test=np.nan_to_num(test)                          #用均值代替缺失值（发现这样可以一步到位，上一行作废）\n",
    "\n",
    "mean_test = np.array([np.mean(test[:,i]) for i in range(test.shape[1])])   #求测试集各列均值\n",
    "scale_test = np.array([np.std(test[:,i]) for i in range(test.shape[1])])   #求测试集各列方差（用于标准化） \n",
    "for i in range(13):\n",
    "    test[:,i]=(test[:,i]-mean_test[i])/scale_test[i]       #标准化中\n",
    "test=np.c_[np.ones((102,1)),test]                  #为测试集加上一列全为1的数据作为“x0”，得到测试集的X矩阵test\n",
    "\n",
    "Y=np.empty(shape=(102,1),dtype=float)              #Y用来存放outcome\n",
    "for i in range(102):\n",
    "    Y[i]=np.dot(theta,test[i])                     #求outcome中\n",
    "    \n",
    "#  5.把预测出的数据写入文件\n",
    "    \n",
    "Y=Y.T\n",
    "Y=Y.flatten()\n",
    "a=np.array(range(102))         #a用来存放id\n",
    "a=a.flatten()\n",
    "dataframe = pd.DataFrame({'id':a,'outcome':Y})             #把a，y放入dateframe\n",
    "dataframe.to_csv(\"test_29z.csv\",index=False,sep=',')      #把dateframe写入文件中\n"
   ]
  },
  {
   "cell_type": "code",
   "execution_count": null,
   "metadata": {},
   "outputs": [],
   "source": []
  },
  {
   "cell_type": "code",
   "execution_count": null,
   "metadata": {},
   "outputs": [],
   "source": []
  }
 ],
 "metadata": {
  "kernelspec": {
   "display_name": "Python 3",
   "language": "python",
   "name": "python3"
  },
  "language_info": {
   "codemirror_mode": {
    "name": "ipython",
    "version": 3
   },
   "file_extension": ".py",
   "mimetype": "text/x-python",
   "name": "python",
   "nbconvert_exporter": "python",
   "pygments_lexer": "ipython3",
   "version": "3.8.5"
  }
 },
 "nbformat": 4,
 "nbformat_minor": 4
}
