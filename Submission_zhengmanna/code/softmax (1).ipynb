{
 "cells": [
  {
   "cell_type": "code",
   "execution_count": 31,
   "metadata": {
    "scrolled": true
   },
   "outputs": [],
   "source": [
    "import numpy as np\n",
    "import pandas as pd\n",
    "\n",
    "#   1.导入训练集的数据、数据预处理\n",
    "\n",
    "df=pd.read_csv(\"train.csv\")              #打开训练集文件\n",
    "clm=df.columns                            #clm为各列的列标\n",
    "mean=np.nanmean(df,axis=0)                #求出每一列的均值mean（用来填充缺失值）\n",
    "j=0                                       \n",
    "for i in clm:                             #用均值替换缺失值\n",
    "    df[i].fillna(mean[j],inplace=True)    \n",
    "    j=j+1 \n",
    "m=20000         #样本数\n",
    "n=785          #X的项数\n",
    "df_X=df.drop('id',axis=1)             \n",
    "df_X=df_X.drop('label',axis=1)                #去掉训练集中的outcome和id两列\n",
    "df_X=np.c_[np.ones((m,1)),df_X]           #再加上一列全为1的数据作为“x0”，得到训练集的X矩阵df_X\n",
    "df_X=np.array(df_X)\n",
    "max_X=df_X.max(axis=1)         #求出每一行的最大值\n",
    "min_X=df_X.min(axis=1)         #求出每一行的最小值\n",
    "X = np.empty(shape=df_X.shape,dtype=float)                 \n",
    "for i in range(m):\n",
    "    X[i,:]=(df_X[i,:]-min_X[i])/(max_X[i]-min_X[i])        #归一化\n",
    "df_X=X                              #得到归一化后的X矩阵\n",
    "df_Y=df['label'][:]              #得到标签矩阵\n",
    "df_Y=np.array(df_Y)\n",
    "theta=np.random.uniform(0,1,(10,n))    #存放theta"
   ]
  },
  {
   "cell_type": "code",
   "execution_count": 32,
   "metadata": {},
   "outputs": [],
   "source": [
    "#  2.用梯度下降法训练模型\n",
    "def softmax(X):   #定义softmax函数\n",
    "    return np.exp(X) / np.sum(np.exp(X))"
   ]
  },
  {
   "cell_type": "code",
   "execution_count": 33,
   "metadata": {},
   "outputs": [
    {
     "name": "stdout",
     "output_type": "stream",
     "text": [
      "[[-0.00231024  0.66822727  0.18613512 ...  0.66430589  0.64566866\n",
      "   0.86612347]\n",
      " [ 1.018194    0.05490512  0.13960639 ...  0.17963674  0.46740248\n",
      "   0.98223634]\n",
      " [ 1.13330786  0.31795904  0.35256582 ...  0.28349037  0.49363307\n",
      "   0.97587175]\n",
      " ...\n",
      " [ 0.39512239  0.04576334  0.02325345 ...  0.45489004  0.3483348\n",
      "   0.59270942]\n",
      " [-1.45053515  0.01483787  0.13063388 ...  0.08002169  0.46858503\n",
      "   0.29465206]\n",
      " [ 0.70113743  0.75793032  0.32409644 ...  0.23061649  0.28903319\n",
      "   0.07250383]]\n"
     ]
    }
   ],
   "source": [
    "count=100                #迭代次数\n",
    "alpha=0.1                #学习率\n",
    "for i in range(count):\n",
    "    for j in range(m):\n",
    "        x=df_X[j].reshape(-1, 1)\n",
    "        y=np.zeros((10, 1))        #独热编码\n",
    "        y[df_Y[j]]=1               #独热编码\n",
    "        predict_y=softmax(np.dot(theta, x))       #算出每个标签的概率，存放于predict_y中\n",
    "        theta=theta-alpha*(np.dot((predict_y- y), x.T))    #更新theta的值  \n",
    "print(theta)          #看看theta"
   ]
  },
  {
   "cell_type": "code",
   "execution_count": 28,
   "metadata": {},
   "outputs": [
    {
     "name": "stdout",
     "output_type": "stream",
     "text": [
      "[[0.00392157 0.         0.         ... 0.         0.         0.        ]\n",
      " [0.00392157 0.         0.         ... 0.         0.         0.        ]\n",
      " [0.00392157 0.         0.         ... 0.         0.         0.        ]\n",
      " ...\n",
      " [0.00392157 0.         0.         ... 0.         0.         0.        ]\n",
      " [0.00392157 0.         0.         ... 0.         0.         0.        ]\n",
      " [0.00393701 0.         0.         ... 0.         0.         0.        ]]\n"
     ]
    }
   ],
   "source": [
    " #  3.预测\n",
    "test=pd.read_csv(\"test.csv\")              #打开训练集文件 \n",
    "test_X=test.drop('id',axis=1)             #去掉id那一列\n",
    "test_X=np.c_[np.ones((10000,1)),test_X]           #再加上一列全为1的数据作为“x0”，得到测试集的X矩阵\n",
    "test_X=np.array(test_X)\n",
    "\n",
    "max_test_X=test_X.max(axis=1)         #求出每一行的最大值\n",
    "min_test_X=test_X.min(axis=1)         #求出每一行的最小值\n",
    "\n",
    "for i in range(10000):\n",
    "    test_X[i,:]=(test_X[i,:]-min_test_X[i])/(max_test_X[i]-min_test_X[i])        #归一化  \n",
    "print(test_X)"
   ]
  },
  {
   "cell_type": "code",
   "execution_count": 51,
   "metadata": {},
   "outputs": [],
   "source": [
    "#  4.将预测写入文件\n",
    "label=np.empty(shape=(10000,1),dtype=int)              #label用来存放预测出的标签\n",
    "test_Y=np.empty(shape=(10000,10),dtype=int)              #test_Y用来存放预测出的标签的独热编码\n",
    "for i in range(10000):                                 #根据已得出的theta预测test_Y\n",
    "    test_Y[i]=np.dot(theta,test_X[i])\n",
    "    label[i]=np.argmax(softmax(test_Y[i]))\n",
    "\n",
    "label=label.T\n",
    "label=label.flatten()            #把数组降为一维 \n",
    "a=np.array(range(10000))         #a用来存放id\n",
    "a=a.flatten()                    #把数组降为一维\n",
    "dataframe = pd.DataFrame({'id':a,'label':label})             #把a，label放入dateframe\n",
    "dataframe.to_csv(\"test_ddr.csv\",index=False,sep=',')      #把dateframe写入文件中"
   ]
  },
  {
   "cell_type": "code",
   "execution_count": 48,
   "metadata": {},
   "outputs": [
    {
     "name": "stdout",
     "output_type": "stream",
     "text": [
      "(4000,)\n"
     ]
    }
   ],
   "source": [
    "\n",
    "#  5.评估（并没有成功写出来的，以下代码作废）\n",
    "\n",
    "test_0=df.sample(frac=1/5,replace=True,random_state=1,axis=0)\n",
    "test_0_X=test_0.drop('label',axis=1)             \n",
    "test_0_X=test_0_X.drop('id',axis=1)                \n",
    "test_0_X=np.c_[np.ones((4000,1)),test_0_X]          \n",
    "test_0_X=np.array(test_0_X)\n",
    "max_X=test_0_X.max(axis=1)         #求出每一行的最大值\n",
    "min_X=test_0_X.min(axis=1)         #求出每一行的最小值\n",
    "X = np.empty(shape=test_0_X.shape,dtype=float)                 \n",
    "for i in range(4000):\n",
    "    X[i,:]=(test_0_X[i,:]-min_X[i])/(max_X[i]-min_X[i])        #归一化\n",
    "test_0_X=X                              \n",
    "test_0_Y=test_0['label'][:]                 \n",
    "test_0_Y=np.array(test_0_Y)                 "
   ]
  },
  {
   "cell_type": "code",
   "execution_count": 60,
   "metadata": {},
   "outputs": [
    {
     "name": "stdout",
     "output_type": "stream",
     "text": [
      "0.09974999999999999\n",
      "0.09974999999999999\n",
      "0.09974999999999999\n"
     ]
    }
   ],
   "source": [
    "p_label=np.empty(shape=(4000,1),dtype=int)            #test_0_label用来存放预测出的标签\n",
    "p_Y=np.empty(shape=(4000,10),dtype=int)              #p_Y用来存放预测\n",
    "\n",
    "TP=0\n",
    "FN=0\n",
    "FP=0\n",
    "\n",
    "for i in range(4000):                                \n",
    "    p_Y[i]=np.dot(theta,test_0_X[i])                  #预测中\n",
    "    p_label[i]=np.argmax(softmax(test_Y[i]))\n",
    "    y=np.zeros((10, 1))        \n",
    "    y[p_label[i]]=1            #得出预测出的标签的独热编码y\n",
    "    y0=np.zeros((10,1))\n",
    "    y0[test_0_Y[i]]=1         #得出真实的标签的独热编码y0\n",
    "    #真正例\n",
    "    TP=TP+np.sum(np.logical_and(np.equal(y0,1),np.equal(y,1)))\n",
    "    #假正例\n",
    "    FP=FP+np.sum(np.logical_and(np.equal(y0,0),np.equal(y,1))) \n",
    "    #假反例\n",
    "    FN=FN+np.sum(np.logical_and(np.equal(y0,0),np.equal(y,0)))\n",
    "    \n",
    "#FN_mean=\n",
    "micro_P=TP_mean/(TP_mean+FP_mean)  #微查准率\n",
    "micro_R=TP_mean/(TP_mean+FP_mean)  #微查全率\n",
    "micro_F1=2*micro_P*micro_R/(micro_P+micro_R)\n",
    "print(micro_P)\n",
    "print(micro_R)\n",
    "print(micro_F1)"
   ]
  },
  {
   "cell_type": "code",
   "execution_count": null,
   "metadata": {},
   "outputs": [],
   "source": []
  }
 ],
 "metadata": {
  "kernelspec": {
   "display_name": "Python 3",
   "language": "python",
   "name": "python3"
  },
  "language_info": {
   "codemirror_mode": {
    "name": "ipython",
    "version": 3
   },
   "file_extension": ".py",
   "mimetype": "text/x-python",
   "name": "python",
   "nbconvert_exporter": "python",
   "pygments_lexer": "ipython3",
   "version": "3.8.5"
  }
 },
 "nbformat": 4,
 "nbformat_minor": 4
}
